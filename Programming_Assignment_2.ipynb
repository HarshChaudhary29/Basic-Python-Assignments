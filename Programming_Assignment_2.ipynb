{
  "nbformat": 4,
  "nbformat_minor": 0,
  "metadata": {
    "colab": {
      "name": "Programming_Assignment_2.ipynb",
      "provenance": [],
      "collapsed_sections": [],
      "authorship_tag": "ABX9TyOSrUkwCj7Zw579od7F+mfG",
      "include_colab_link": true
    },
    "kernelspec": {
      "name": "python3",
      "display_name": "Python 3"
    },
    "language_info": {
      "name": "python"
    }
  },
  "cells": [
    {
      "cell_type": "markdown",
      "metadata": {
        "id": "view-in-github",
        "colab_type": "text"
      },
      "source": [
        "<a href=\"https://colab.research.google.com/github/HarshChaudhary29/Basic-Python-Assignments/blob/main/Programming_Assignment_2.ipynb\" target=\"_parent\"><img src=\"https://colab.research.google.com/assets/colab-badge.svg\" alt=\"Open In Colab\"/></a>"
      ]
    },
    {
      "cell_type": "markdown",
      "source": [
        "###1. Write a Python program to convert kilometers to miles?\n"
      ],
      "metadata": {
        "id": "t05LS6RGbcev"
      }
    },
    {
      "cell_type": "code",
      "source": [
        "km = int(input(\"Enter the kilometers: \"))\n",
        "print(\"Converted to miles the answer is:\",5/8*km)"
      ],
      "metadata": {
        "id": "O_IYEYMYb63q",
        "colab": {
          "base_uri": "https://localhost:8080/"
        },
        "outputId": "f6ecbbed-be7c-4aa7-82a6-689782b40c9c"
      },
      "execution_count": 2,
      "outputs": [
        {
          "output_type": "stream",
          "name": "stdout",
          "text": [
            "Enter the kilometers: 1\n",
            "Converted to miles the answer is: 0.625\n"
          ]
        }
      ]
    },
    {
      "cell_type": "markdown",
      "source": [
        "###2. Write a Python program to convert Celsius to Fahrenheit?"
      ],
      "metadata": {
        "id": "032CCSaQbfHq"
      }
    },
    {
      "cell_type": "code",
      "source": [
        "celsius = int(input(\"Enter the temperature in Celsius: \"))\n",
        "print(\"Converted to Fahrenheit the answer is:\",(9/5*celsius)+32)"
      ],
      "metadata": {
        "id": "889Tyo4cb717",
        "colab": {
          "base_uri": "https://localhost:8080/"
        },
        "outputId": "a10902dc-591a-47cf-dd3e-07e714bea1df"
      },
      "execution_count": 4,
      "outputs": [
        {
          "output_type": "stream",
          "name": "stdout",
          "text": [
            "Enter the temperature in Celsius: 5\n",
            "Converted to Fahrenheit the answer is: 41.0\n"
          ]
        }
      ]
    },
    {
      "cell_type": "markdown",
      "source": [
        "###3. Write a Python program to display calendar?\n"
      ],
      "metadata": {
        "id": "FzkyLxJybkWm"
      }
    },
    {
      "cell_type": "code",
      "source": [
        "from calendar import month as yo\n",
        "m = int(input(\"Enter the month: \"))\n",
        "y = int(input(\"Enter the year: \"))\n",
        "print(\"The Desired Calendar is: \")\n",
        "print(yo(y,m))"
      ],
      "metadata": {
        "id": "PFWN80hTb8fQ",
        "colab": {
          "base_uri": "https://localhost:8080/"
        },
        "outputId": "b7642345-696d-4d04-982c-8ef45dbf6e91"
      },
      "execution_count": 23,
      "outputs": [
        {
          "output_type": "stream",
          "name": "stdout",
          "text": [
            "Enter the month: 1\n",
            "Enter the year: 2002\n",
            "The Desired Calendar is: \n",
            "    January 2002\n",
            "Mo Tu We Th Fr Sa Su\n",
            "    1  2  3  4  5  6\n",
            " 7  8  9 10 11 12 13\n",
            "14 15 16 17 18 19 20\n",
            "21 22 23 24 25 26 27\n",
            "28 29 30 31\n",
            "\n"
          ]
        }
      ]
    },
    {
      "cell_type": "markdown",
      "source": [
        "###4. Write a Python program to solve quadratic equation?"
      ],
      "metadata": {
        "id": "NtdFC3eAbuZy"
      }
    },
    {
      "cell_type": "code",
      "source": [
        "from math import sqrt\n",
        "print(\"Standard quadratic equation is of the format: Ax\\u00b2 + Bx + c\")\n",
        "a = int(input(\"Enter the value of A: \"))\n",
        "b = int(input(\"Enter the value of B: \"))\n",
        "c = int(input(\"Enter the value of C: \"))\n",
        "if((b**2-4*a*c)<0):\n",
        "  print(\"Imaginary roots exist for this equation.\")\n",
        "  c1 = complex((-b)/(2*a),sqrt(4*a*c-b**2)/(2*a))\n",
        "  c2 = complex(-b/(2*a),-sqrt(4*a*c-b**2)/(2*a))\n",
        "  print(\"The imaginary roots are:\",c1,\"and\",c2)\n",
        "else:\n",
        "  print(\"The roots of the Quadratic Equation are:\",\\\n",
        "        (-b-sqrt(b**2-4*a*c))/(2*a),\"and\",(-b+sqrt(b**2-4*a*c))/(2*a))"
      ],
      "metadata": {
        "id": "SI8lAhSDb9S5",
        "colab": {
          "base_uri": "https://localhost:8080/"
        },
        "outputId": "38980bb2-395c-4f62-d5b7-eb16a058d55e"
      },
      "execution_count": 24,
      "outputs": [
        {
          "output_type": "stream",
          "name": "stdout",
          "text": [
            "Standard quadratic equation is of the format: Ax² + Bx + c\n",
            "Enter the value of A: 5\n",
            "Enter the value of B: 4\n",
            "Enter the value of C: 3\n",
            "Imaginary roots exist for this equation.\n",
            "The imaginary roots are: (-0.4+0.6633249580710799j) and (-0.4-0.6633249580710799j)\n"
          ]
        }
      ]
    },
    {
      "cell_type": "markdown",
      "source": [
        "###5. Write a Python program to swap two variables without temp variable?"
      ],
      "metadata": {
        "id": "WGfGxhBBbxHo"
      }
    },
    {
      "cell_type": "code",
      "source": [
        "x = int(input(\"Enter the value for x: \"))\n",
        "y = int(input(\"Enter the value for y: \"))\n",
        "x,y = y,x\n",
        "print(\"After Swap:\",\"x =\",x,\"y =\",y)"
      ],
      "metadata": {
        "id": "vvu4DQpubp_q",
        "colab": {
          "base_uri": "https://localhost:8080/"
        },
        "outputId": "55841109-7a75-46cb-ecc5-9b7d8f96d459"
      },
      "execution_count": 28,
      "outputs": [
        {
          "output_type": "stream",
          "name": "stdout",
          "text": [
            "Enter the value for x: 5\n",
            "Enter the value for y: 3\n",
            "After Swap: x = 3 y = 5\n",
            "<class 'int'>\n"
          ]
        }
      ]
    },
    {
      "cell_type": "code",
      "source": [
        ""
      ],
      "metadata": {
        "id": "Zs2yt496JXWq"
      },
      "execution_count": null,
      "outputs": []
    }
  ]
}