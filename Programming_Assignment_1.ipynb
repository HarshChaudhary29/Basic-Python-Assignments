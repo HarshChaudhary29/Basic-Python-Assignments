{
  "nbformat": 4,
  "nbformat_minor": 0,
  "metadata": {
    "colab": {
      "name": "Programming Assignment-1.ipynb",
      "provenance": [],
      "authorship_tag": "ABX9TyMrUAMINx0Io90YABFhH4wb",
      "include_colab_link": true
    },
    "kernelspec": {
      "name": "python3",
      "display_name": "Python 3"
    },
    "language_info": {
      "name": "python"
    }
  },
  "cells": [
    {
      "cell_type": "markdown",
      "metadata": {
        "id": "view-in-github",
        "colab_type": "text"
      },
      "source": [
        "<a href=\"https://colab.research.google.com/github/HarshChaudhary29/Basic-Python-Assignments/blob/main/Programming_Assignment_1.ipynb\" target=\"_parent\"><img src=\"https://colab.research.google.com/assets/colab-badge.svg\" alt=\"Open In Colab\"/></a>"
      ]
    },
    {
      "cell_type": "markdown",
      "source": [
        "###1. Write a Python program to print \"Hello Python\"?"
      ],
      "metadata": {
        "id": "9E56kaow8H3T"
      }
    },
    {
      "cell_type": "code",
      "source": [
        "print(\"Hello Python\")"
      ],
      "metadata": {
        "colab": {
          "base_uri": "https://localhost:8080/"
        },
        "id": "OAi1f5dQ8Yp-",
        "outputId": "89a29b5f-85a8-410a-9f8f-107a20dc17c5"
      },
      "execution_count": 1,
      "outputs": [
        {
          "output_type": "stream",
          "name": "stdout",
          "text": [
            "Hello Python\n"
          ]
        }
      ]
    },
    {
      "cell_type": "markdown",
      "source": [
        "###2. Write a Python program to do arithmetical operations addition and division?"
      ],
      "metadata": {
        "id": "uzmEWg7i8-52"
      }
    },
    {
      "cell_type": "code",
      "source": [
        "a = int(input(\"Enter first number: \"))\n",
        "b = int(input(\"Enter second number: \"))\n",
        "operation = input(\"Choose addition or division: \")\n",
        "if(operation == 'addition'):\n",
        "  print(a+b)\n",
        "elif(operation == 'division'):\n",
        "  print(a/b)"
      ],
      "metadata": {
        "colab": {
          "base_uri": "https://localhost:8080/"
        },
        "id": "OWdI83Cc8cn7",
        "outputId": "b2dea4f1-0549-4aed-eb5c-594c1fd3c941"
      },
      "execution_count": 3,
      "outputs": [
        {
          "output_type": "stream",
          "name": "stdout",
          "text": [
            "Enter first number: 5\n",
            "Enter second number: 10\n",
            "Choose addition or division: division\n",
            "0.5\n"
          ]
        }
      ]
    },
    {
      "cell_type": "markdown",
      "source": [
        "###3. Write a Python program to find the area of a triangle?"
      ],
      "metadata": {
        "id": "m7nfqzJiDAtl"
      }
    },
    {
      "cell_type": "code",
      "source": [
        "base = int(input(\"Enter base length: \"))\n",
        "height = int(input(\"Enter height: \"))\n",
        "print(\"Area of triangle is:\",(1/2)*(base*height))"
      ],
      "metadata": {
        "colab": {
          "base_uri": "https://localhost:8080/"
        },
        "id": "SAKJ6fRnC0KG",
        "outputId": "b62a663b-f807-4993-bf75-2b86e79d7bf4"
      },
      "execution_count": 10,
      "outputs": [
        {
          "output_type": "stream",
          "name": "stdout",
          "text": [
            "Enter base length: 29\n",
            "Enter height: 13\n",
            "Area of triangle is: 188.5\n"
          ]
        }
      ]
    },
    {
      "cell_type": "markdown",
      "source": [
        "###4. Write a Python program to swap two variables?"
      ],
      "metadata": {
        "id": "d3duYbKHEE_x"
      }
    },
    {
      "cell_type": "code",
      "source": [
        "x = input(\"First Variable x: \")\n",
        "y = input(\"Second Variable y: \")\n",
        "temp = x\n",
        "x = y\n",
        "y = temp\n",
        "print(\"After Swap:\",\"x =\",x,\"y =\",y)"
      ],
      "metadata": {
        "colab": {
          "base_uri": "https://localhost:8080/"
        },
        "id": "JVNjkaU3DYQb",
        "outputId": "83c945f0-8d9f-4a98-a37b-53b27b8732fe"
      },
      "execution_count": 13,
      "outputs": [
        {
          "output_type": "stream",
          "name": "stdout",
          "text": [
            "First Variable x: 13\n",
            "Second Variable y: 25\n",
            "After Swap: x = 25 y = 13\n"
          ]
        }
      ]
    },
    {
      "cell_type": "markdown",
      "source": [
        "###5. Write a Python program to generate a random number?"
      ],
      "metadata": {
        "id": "9r5tvKyqEoHO"
      }
    },
    {
      "cell_type": "code",
      "source": [
        "from random import random as rd\n",
        "print(rd())"
      ],
      "metadata": {
        "colab": {
          "base_uri": "https://localhost:8080/"
        },
        "id": "Xh_Pj3uDEalz",
        "outputId": "fbf0723a-ff10-4148-c9f3-f0f27adec3ac"
      },
      "execution_count": 18,
      "outputs": [
        {
          "output_type": "stream",
          "name": "stdout",
          "text": [
            "0.1398234436831305\n"
          ]
        }
      ]
    }
  ]
}